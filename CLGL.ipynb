{
 "cells": [
  {
   "cell_type": "code",
   "execution_count": 1,
   "metadata": {},
   "outputs": [
    {
     "name": "stdout",
     "output_type": "stream",
     "text": [
      "Vispy IPython module has loaded successfully"
     ]
    }
   ],
   "source": [
    "import numpy as np\n",
    "import vispy\n",
    "import vispy.gloo as gloo\n",
    "from vispy import app\n",
    "from vispy.util.transforms import perspective, translate, rotate\n",
    "\n",
    "# load the vispy bindings for the IPython notebook which enables webGL\n",
    "%load_ext vispy.ipython"
   ]
  },
  {
   "cell_type": "code",
   "execution_count": 2,
   "metadata": {
    "collapsed": true,
    "scrolled": true
   },
   "outputs": [],
   "source": [
    "import pyopencl as cl\n",
    "from pyopencl.tools import get_gl_sharing_context_properties\n",
    "import sys"
   ]
  },
  {
   "cell_type": "code",
   "execution_count": 3,
   "metadata": {
    "collapsed": true
   },
   "outputs": [],
   "source": [
    "n = 100\n",
    "l = np.linspace(-1,1,100).astype(np.float32)\n",
    "a_position = np.mgrid[-1:1:5j,-1:1:5j,-1:1:4j].reshape(3,100).T.astype(np.float32)\n",
    "a_id = np.random.randint(0, 30, (n, 1))\n",
    "a_id = np.sort(a_id, axis=0).astype(np.float32)\n",
    "\n",
    "src = \"\"\"\n",
    "__kernel void generate_sin(__global float3* a)\n",
    "{\n",
    "    int id = get_global_id(0);\n",
    "    a[id].y = native_sin(a[id.y]);\n",
    "}\n",
    "\"\"\""
   ]
  },
  {
   "cell_type": "code",
   "execution_count": 4,
   "metadata": {
    "collapsed": true
   },
   "outputs": [],
   "source": [
    "VERT_SHADER = \"\"\"\n",
    "uniform mat4 u_model;\n",
    "uniform mat4 u_view;\n",
    "uniform mat4 u_projection;\n",
    "attribute vec3 a_position;\n",
    "attribute float a_id;\n",
    "varying float v_id;\n",
    "void main (void) {\n",
    "    v_id = a_id;\n",
    "    gl_Position = u_projection * u_view * u_model * vec4(a_position,1.0);\n",
    "}\n",
    "\"\"\"\n",
    "\n",
    "FRAG_SHADER = \"\"\"\n",
    "varying float v_id;\n",
    "void main()\n",
    "{\n",
    "    float f = fract(v_id);\n",
    "    // The second useless test is needed on OSX 10.8 \n",
    "    if( (f > 0.0001) && (f < .9999) )\n",
    "        discard;\n",
    "    else\n",
    "        gl_FragColor = vec4(0,0,0,1);\n",
    "}\n",
    "\"\"\""
   ]
  },
  {
   "cell_type": "code",
   "execution_count": 5,
   "metadata": {
    "collapsed": true
   },
   "outputs": [],
   "source": [
    "class Canvas(app.Canvas):\n",
    "\n",
    "    # ---------------------------------\n",
    "    def __init__(self, size=None):\n",
    "\n",
    "        app.Canvas.__init__(self, keys='interactive', size=size)\n",
    "\n",
    "        self.program = gloo.Program(VERT_SHADER, FRAG_SHADER)\n",
    "\n",
    "        # Set uniform and attribute\n",
    "        self.program['a_id'] = gloo.VertexBuffer(a_id)\n",
    "        self.program['a_position'] = gloo.VertexBuffer(a_position)\n",
    "        \n",
    "        vbo = self.program['a_position'].id\n",
    "\n",
    "        self.translate = 5\n",
    "        self.view = translate((0, 0, -self.translate), dtype=np.float32)\n",
    "        self.model = np.eye(4, dtype=np.float32)\n",
    "\n",
    "        gloo.set_viewport(0, 0, self.physical_size[0], self.physical_size[1])\n",
    "        self.projection = perspective(45.0, self.size[0] /\n",
    "                                      float(self.size[1]), 1.0, 1000.0)\n",
    "        self.program['u_projection'] = self.projection\n",
    "\n",
    "        self.program['u_model'] = self.model\n",
    "        self.program['u_view'] = self.view\n",
    "\n",
    "        self.theta = 0\n",
    "        self.phi = 0\n",
    "\n",
    "        self.context.set_clear_color('white')\n",
    "        self.context.set_state('translucent')\n",
    "\n",
    "        self.timer = app.Timer('auto', connect=self.on_timer, start=True)\n",
    "\n",
    "        platform = cl.get_platforms()[0]\n",
    "       \n",
    "        self.show()\n",
    "    # ---------------------------------\n",
    "    def on_key_press(self, event):\n",
    "        if event.text == ' ':\n",
    "            if self.timer.running:\n",
    "                self.timer.stop()\n",
    "            else:\n",
    "                self.timer.start()\n",
    "\n",
    "    # ---------------------------------\n",
    "    def on_timer(self, event):\n",
    "        self.theta += .5\n",
    "        self.phi += .5\n",
    "        self.model = np.dot(rotate(self.theta, (0, 0, 1)),\n",
    "                            rotate(self.phi, (0, 1, 0)))\n",
    "        self.program['u_model'] = self.model\n",
    "        self.update()\n",
    "\n",
    "    # ---------------------------------\n",
    "    def on_resize(self, event):\n",
    "        gloo.set_viewport(0, 0, event.physical_size[0], event.physical_size[1])\n",
    "        self.projection = perspective(45.0, event.size[0] /\n",
    "                                      float(event.size[1]), 1.0, 1000.0)\n",
    "        self.program['u_projection'] = self.projection\n",
    "\n",
    "    # ---------------------------------\n",
    "    def on_mouse_wheel(self, event):\n",
    "        self.translate += event.delta[1]\n",
    "        self.translate = max(2, self.translate)\n",
    "        self.view = translate((0, 0, -self.translate))\n",
    "        self.program['u_view'] = self.view\n",
    "        self.update()\n",
    "\n",
    "    # ---------------------------------\n",
    "    def on_draw(self, event):\n",
    "        self.context.clear()\n",
    "        self.program.draw('line_strip')"
   ]
  },
  {
   "cell_type": "code",
   "execution_count": 6,
   "metadata": {},
   "outputs": [
    {
     "name": "stderr",
     "output_type": "stream",
     "text": [
      "WARNING: Copying discontiguous data for struct dtype:\n",
      "  File \"/Users/amorg7/anaconda/lib/python3.6/runpy.py\", line 193, in _run_module_as_main\n",
      "    \"__main__\", mod_spec)\n",
      "\n"
     ]
    },
    {
     "data": {
      "application/vnd.jupyter.widget-view+json": {
       "model_id": "648edda6a5294050864467fae545fa8c"
      }
     },
     "metadata": {},
     "output_type": "display_data"
    }
   ],
   "source": [
    "c = Canvas(size=(300, 300))\n",
    "#from vispy.app.backends.ipython import VispyWidget\n",
    "#w = VispyWidget()\n",
    "#w.set_canvas(c)\n",
    "#w"
   ]
  },
  {
   "cell_type": "code",
   "execution_count": 10,
   "metadata": {},
   "outputs": [
    {
     "data": {
      "text/plain": [
       "<GLContext at 0x1088a49b0>"
      ]
     },
     "execution_count": 10,
     "metadata": {},
     "output_type": "execute_result"
    }
   ],
   "source": [
    "c.context."
   ]
  },
  {
   "cell_type": "code",
   "execution_count": 20,
   "metadata": {},
   "outputs": [
    {
     "data": {
      "text/plain": [
       "[(268435456, 0)]"
      ]
     },
     "execution_count": 20,
     "metadata": {},
     "output_type": "execute_result"
    }
   ],
   "source": [
    "get_gl_sharing_context_properties()"
   ]
  },
  {
   "cell_type": "code",
   "execution_count": 14,
   "metadata": {
    "collapsed": true
   },
   "outputs": [],
   "source": [
    "a = gloo.VertexBuffer(a_id)"
   ]
  },
  {
   "cell_type": "code",
   "execution_count": 19,
   "metadata": {},
   "outputs": [
    {
     "data": {
      "text/plain": [
       "11"
      ]
     },
     "execution_count": 19,
     "metadata": {},
     "output_type": "execute_result"
    }
   ],
   "source": [
    "c.program['a_id'].id"
   ]
  },
  {
   "cell_type": "code",
   "execution_count": 32,
   "metadata": {
    "collapsed": true
   },
   "outputs": [],
   "source": [
    "gloo.buffer.DataBuffer?"
   ]
  },
  {
   "cell_type": "code",
   "execution_count": 9,
   "metadata": {
    "collapsed": true
   },
   "outputs": [
    {
     "data": {
      "text/plain": [
       "<pyopencl.Platform 'Apple' at 0x7fff0000>"
      ]
     },
     "execution_count": 9,
     "metadata": {},
     "output_type": "execute_result"
    }
   ],
   "source": [
    "cl.get_platforms()[0]"
   ]
  },
  {
   "cell_type": "code",
   "execution_count": 31,
   "metadata": {},
   "outputs": [
    {
     "data": {
      "text/plain": [
       "[(268435456, 0)]"
      ]
     },
     "execution_count": 31,
     "metadata": {},
     "output_type": "execute_result"
    }
   ],
   "source": [
    "get_gl_sharing_context_properties()"
   ]
  },
  {
   "cell_type": "code",
   "execution_count": 25,
   "metadata": {
    "collapsed": true
   },
   "outputs": [],
   "source": [
    "platform = cl.get_platforms()[0]"
   ]
  },
  {
   "cell_type": "code",
   "execution_count": 28,
   "metadata": {},
   "outputs": [],
   "source": [
    "ctx = cl.Context(properties=[\n",
    "                    (cl.context_properties.PLATFORM, platform)],\n",
    "                    devices = [platform.get_devices()[1]])"
   ]
  },
  {
   "cell_type": "code",
   "execution_count": 29,
   "metadata": {},
   "outputs": [
    {
     "data": {
      "text/plain": [
       "<pyopencl.Context at 0x7ff28d701040 on <pyopencl.Device 'Iris Pro' on 'Apple' at 0x1024500>>"
      ]
     },
     "execution_count": 29,
     "metadata": {},
     "output_type": "execute_result"
    }
   ],
   "source": [
    "ctx"
   ]
  },
  {
   "cell_type": "code",
   "execution_count": 40,
   "metadata": {
    "collapsed": true
   },
   "outputs": [],
   "source": [
    "from __future__ import absolute_import\n",
    "from OpenGL.GL import *\n",
    "from OpenGL.GLUT import *\n",
    "from OpenGL.raw.GL.VERSION.GL_1_5 import glBufferData as rawGlBufferData\n",
    "import pyopencl as cl"
   ]
  },
  {
   "cell_type": "code",
   "execution_count": null,
   "metadata": {
    "collapsed": true
   },
   "outputs": [],
   "source": [
    "n_vertices = 10000\n",
    "\n",
    "src = \"\"\"\n",
    "__kernel void generate_sin(__global float2* a)\n",
    "{\n",
    "    int id = get_global_id(0);\n",
    "    int n = get_global_size(0);\n",
    "    float r = (float)id / (float)n;\n",
    "    float x = r * 16.0f * 3.1415f;\n",
    "    a[id].x = r * 2.0f - 1.0f;\n",
    "    a[id].y = native_sin(x);\n",
    "}\n",
    "\"\"\"\n",
    "\n",
    "def initialize():\n",
    "    platform = cl.get_platforms()[0]\n",
    "\n",
    "    from pyopencl.tools import get_gl_sharing_context_properties\n",
    "    import sys\n",
    "    if sys.platform == \"darwin\":\n",
    "        ctx = cl.Context(properties=get_gl_sharing_context_properties(),\n",
    "                devices=[])\n",
    "    else:\n",
    "        # Some OSs prefer clCreateContextFromType, some prefer\n",
    "        # clCreateContext. Try both.\n",
    "        try:\n",
    "            ctx = cl.Context(properties=[\n",
    "                (cl.context_properties.PLATFORM, platform)]\n",
    "                + get_gl_sharing_context_properties())\n",
    "        except:\n",
    "            ctx = cl.Context(properties=[\n",
    "                (cl.context_properties.PLATFORM, platform)]\n",
    "                + get_gl_sharing_context_properties(),\n",
    "                devices = [platform.get_devices()[0]])\n",
    "\n",
    "    glClearColor(1, 1, 1, 1)\n",
    "    glColor(0, 0, 1)\n",
    "    vbo = glGenBuffers(1)\n",
    "    glBindBuffer(GL_ARRAY_BUFFER, vbo)\n",
    "    rawGlBufferData(GL_ARRAY_BUFFER, n_vertices * 2 * 4, None, GL_STATIC_DRAW)\n",
    "    glEnableClientState(GL_VERTEX_ARRAY)\n",
    "    glVertexPointer(2, GL_FLOAT, 0, None)\n",
    "    coords_dev = cl.GLBuffer(ctx, cl.mem_flags.READ_WRITE, int(vbo))\n",
    "    prog = cl.Program(ctx, src).build()\n",
    "    queue = cl.CommandQueue(ctx)\n",
    "    cl.enqueue_acquire_gl_objects(queue, [coords_dev])\n",
    "    prog.generate_sin(queue, (n_vertices,), None, coords_dev)\n",
    "    cl.enqueue_release_gl_objects(queue, [coords_dev])\n",
    "    queue.finish()\n",
    "    glFlush()\n",
    "\n",
    "def display():\n",
    "    glClear(GL_COLOR_BUFFER_BIT)\n",
    "    glDrawArrays(GL_LINE_STRIP, 0, n_vertices)\n",
    "    glFlush()\n",
    "\n",
    "def reshape(w, h):\n",
    "    glViewport(0, 0, w, h)\n",
    "    glMatrixMode(GL_PROJECTION)\n",
    "    glLoadIdentity()\n",
    "    glMatrixMode(GL_MODELVIEW)\n",
    "\n",
    "glutInitWindowSize(800, 160)\n",
    "glutInitWindowPosition(0, 0)\n",
    "glutCreateWindow('OpenCL/OpenGL Interop Tutorial: Sin Generator')\n",
    "glutDisplayFunc(display)\n",
    "glutReshapeFunc(reshape)\n",
    "initialize()\n",
    "glutMainLoop()"
   ]
  },
  {
   "cell_type": "code",
   "execution_count": null,
   "metadata": {
    "collapsed": true
   },
   "outputs": [],
   "source": [
    "gloo.gl."
   ]
  },
  {
   "cell_type": "code",
   "execution_count": 11,
   "metadata": {
    "collapsed": true
   },
   "outputs": [],
   "source": [
    "c = app.Canvas(keys='interactive')"
   ]
  },
  {
   "cell_type": "code",
   "execution_count": 12,
   "metadata": {
    "collapsed": true
   },
   "outputs": [],
   "source": [
    "vertex = \"\"\"\n",
    "attribute vec2 a_position;\n",
    "void main (void)\n",
    "{\n",
    "    gl_Position = vec4(a_position, 0.0, 1.0);\n",
    "}\n",
    "\"\"\""
   ]
  },
  {
   "cell_type": "code",
   "execution_count": 13,
   "metadata": {
    "collapsed": true
   },
   "outputs": [],
   "source": [
    "fragment = \"\"\"\n",
    "void main()\n",
    "{\n",
    "    gl_FragColor = vec4(0.0, 0.0, 0.0, 1.0);\n",
    "}\n",
    "\"\"\""
   ]
  },
  {
   "cell_type": "code",
   "execution_count": 14,
   "metadata": {
    "collapsed": true
   },
   "outputs": [],
   "source": [
    "program = gloo.Program(vertex, fragment)"
   ]
  },
  {
   "cell_type": "code",
   "execution_count": 18,
   "metadata": {},
   "outputs": [],
   "source": [
    "program['a_position'] = np.c_[\n",
    "        np.linspace(-1.0, +1.0, 1000).astype(np.float32),\n",
    "        np.random.uniform(-0.5, +0.5, 1000).astype(np.float32)]"
   ]
  },
  {
   "cell_type": "code",
   "execution_count": 21,
   "metadata": {},
   "outputs": [],
   "source": [
    "@c.connect\n",
    "def on_resize(event):\n",
    "    gloo.set_viewport(0, 0, *event.size)"
   ]
  },
  {
   "cell_type": "code",
   "execution_count": 22,
   "metadata": {
    "collapsed": true
   },
   "outputs": [],
   "source": [
    "@c.connect\n",
    "def on_draw(event):\n",
    "    gloo.clear((1,1,1,1))"
   ]
  },
  {
   "cell_type": "code",
   "execution_count": 36,
   "metadata": {},
   "outputs": [
    {
     "data": {
      "text/plain": [
       "<GLContext at 0x1089c84e0>"
      ]
     },
     "execution_count": 36,
     "metadata": {},
     "output_type": "execute_result"
    }
   ],
   "source": [
    "gloo.gl."
   ]
  },
  {
   "cell_type": "code",
   "execution_count": 35,
   "metadata": {},
   "outputs": [
    {
     "ename": "AttributeError",
     "evalue": "'GLContext' object has no attribute 'devices'",
     "output_type": "error",
     "traceback": [
      "\u001b[0;31m---------------------------------------------------------------------------\u001b[0m",
      "\u001b[0;31mAttributeError\u001b[0m                            Traceback (most recent call last)",
      "\u001b[0;32m<ipython-input-35-ca3f997ca354>\u001b[0m in \u001b[0;36m<module>\u001b[0;34m()\u001b[0m\n\u001b[0;32m----> 1\u001b[0;31m \u001b[0mprog\u001b[0m \u001b[0;34m=\u001b[0m \u001b[0mcl\u001b[0m\u001b[0;34m.\u001b[0m\u001b[0mProgram\u001b[0m\u001b[0;34m(\u001b[0m\u001b[0mc\u001b[0m\u001b[0;34m.\u001b[0m\u001b[0mcontext\u001b[0m\u001b[0;34m,\u001b[0m \u001b[0msrc\u001b[0m\u001b[0;34m)\u001b[0m\u001b[0;34m.\u001b[0m\u001b[0mbuild\u001b[0m\u001b[0;34m(\u001b[0m\u001b[0;34m)\u001b[0m\u001b[0;34m\u001b[0m\u001b[0m\n\u001b[0m",
      "\u001b[0;32m/Users/amorg7/pyopencl-2017.2.2/pyopencl/__init__.py\u001b[0m in \u001b[0;36mbuild\u001b[0;34m(self, options, devices, cache_dir)\u001b[0m\n\u001b[1;32m    426\u001b[0m     \u001b[0;32mdef\u001b[0m \u001b[0mbuild\u001b[0m\u001b[0;34m(\u001b[0m\u001b[0mself\u001b[0m\u001b[0;34m,\u001b[0m \u001b[0moptions\u001b[0m\u001b[0;34m=\u001b[0m\u001b[0;34m[\u001b[0m\u001b[0;34m]\u001b[0m\u001b[0;34m,\u001b[0m \u001b[0mdevices\u001b[0m\u001b[0;34m=\u001b[0m\u001b[0;32mNone\u001b[0m\u001b[0;34m,\u001b[0m \u001b[0mcache_dir\u001b[0m\u001b[0;34m=\u001b[0m\u001b[0;32mNone\u001b[0m\u001b[0;34m)\u001b[0m\u001b[0;34m:\u001b[0m\u001b[0;34m\u001b[0m\u001b[0m\n\u001b[1;32m    427\u001b[0m         options_bytes, include_path = self._process_build_options(\n\u001b[0;32m--> 428\u001b[0;31m                 self._context, options)\n\u001b[0m\u001b[1;32m    429\u001b[0m \u001b[0;34m\u001b[0m\u001b[0m\n\u001b[1;32m    430\u001b[0m         \u001b[0;32mif\u001b[0m \u001b[0mcache_dir\u001b[0m \u001b[0;32mis\u001b[0m \u001b[0;32mNone\u001b[0m\u001b[0;34m:\u001b[0m\u001b[0;34m\u001b[0m\u001b[0m\n",
      "\u001b[0;32m/Users/amorg7/pyopencl-2017.2.2/pyopencl/__init__.py\u001b[0m in \u001b[0;36m_process_build_options\u001b[0;34m(cls, context, options)\u001b[0m\n\u001b[1;32m    391\u001b[0m                 \u001b[0;34m+\u001b[0m \u001b[0m_DEFAULT_INCLUDE_OPTIONS\u001b[0m\u001b[0;34m\u001b[0m\u001b[0m\n\u001b[1;32m    392\u001b[0m                 + _PLAT_BUILD_OPTIONS.get(\n\u001b[0;32m--> 393\u001b[0;31m                     context.devices[0].platform.name, []))\n\u001b[0m\u001b[1;32m    394\u001b[0m \u001b[0;34m\u001b[0m\u001b[0m\n\u001b[1;32m    395\u001b[0m         \u001b[0;32mimport\u001b[0m \u001b[0mos\u001b[0m\u001b[0;34m\u001b[0m\u001b[0m\n",
      "\u001b[0;31mAttributeError\u001b[0m: 'GLContext' object has no attribute 'devices'"
     ]
    }
   ],
   "source": [
    "prog = cl.Program(c.context, src).build()"
   ]
  },
  {
   "cell_type": "code",
   "execution_count": 37,
   "metadata": {
    "collapsed": true
   },
   "outputs": [],
   "source": [
    "app.create()"
   ]
  },
  {
   "cell_type": "code",
   "execution_count": null,
   "metadata": {
    "collapsed": true
   },
   "outputs": [],
   "source": [
    "app."
   ]
  },
  {
   "cell_type": "code",
   "execution_count": null,
   "metadata": {
    "collapsed": true
   },
   "outputs": [],
   "source": [
    "c.show()\n",
    "app.run()"
   ]
  }
 ],
 "metadata": {
  "kernelspec": {
   "display_name": "Python 3",
   "language": "python",
   "name": "python3"
  },
  "language_info": {
   "codemirror_mode": {
    "name": "ipython",
    "version": 3
   },
   "file_extension": ".py",
   "mimetype": "text/x-python",
   "name": "python",
   "nbconvert_exporter": "python",
   "pygments_lexer": "ipython3",
   "version": "3.6.1"
  }
 },
 "nbformat": 4,
 "nbformat_minor": 2
}
